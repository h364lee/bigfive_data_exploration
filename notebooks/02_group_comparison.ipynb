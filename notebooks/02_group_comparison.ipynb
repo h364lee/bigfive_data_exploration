{
 "cells": [
  {
   "cell_type": "markdown",
   "id": "8ad83797",
   "metadata": {},
   "source": [
    "# 02_group_comparison"
   ]
  },
  {
   "cell_type": "markdown",
   "id": "1b54e5f9",
   "metadata": {},
   "source": [
    "## Setup"
   ]
  },
  {
   "cell_type": "code",
   "execution_count": 56,
   "id": "968cd126",
   "metadata": {},
   "outputs": [
    {
     "name": "stdout",
     "output_type": "stream",
     "text": [
      "✅ pandas: 2.2.2\n",
      "✅ numpy: 1.26.4\n",
      "✅ seaborn: 0.12.2\n",
      "✅ matplotlib: 3.8.4\n",
      "✅ scipy: 1.12.0\n",
      "✅ statsmodels: 0.14.4\n"
     ]
    }
   ],
   "source": [
    "# Import necessary libraries and version check (couldn't use the latest scipy due to import error)\n",
    "import pandas as pd\n",
    "import numpy as np\n",
    "import seaborn as sns\n",
    "import matplotlib.pyplot as plt\n",
    "import scipy\n",
    "import statsmodels.api as sm\n",
    "from statsmodels.formula.api import ols\n",
    "\n",
    "sns.set(style='whitegrid')\n",
    "\n",
    "print(\"✅ pandas:\", pd.__version__)\n",
    "print(\"✅ numpy:\", np.__version__)\n",
    "print(\"✅ seaborn:\", sns.__version__)\n",
    "print(\"✅ matplotlib:\", plt.matplotlib.__version__)\n",
    "print(\"✅ scipy:\", scipy.__version__)\n",
    "print(\"✅ statsmodels:\", sm.__version__)\n"
   ]
  },
  {
   "cell_type": "code",
   "execution_count": 10,
   "id": "fb4995c5",
   "metadata": {},
   "outputs": [],
   "source": [
    "# Load cleaned dataset\n",
    "df = pd.read_csv('../data/cleaned/cleaned_bigfive_v1.csv')"
   ]
  },
  {
   "cell_type": "code",
   "execution_count": 46,
   "id": "10d1d23d",
   "metadata": {},
   "outputs": [],
   "source": [
    "# Traits list \n",
    "traits = ['Openness', 'Conscientiousness', 'Extraversion', 'Agreeableness', 'Neuroticism']\n",
    "\n",
    "# [Optional] Sampling (same random_state as 01_univariate_EDA)\n",
    "df_sample = df.sample(n=5000, random_state=42)"
   ]
  },
  {
   "cell_type": "markdown",
   "id": "2d83a55f",
   "metadata": {},
   "source": [
    "## Grouping by Countries"
   ]
  },
  {
   "cell_type": "markdown",
   "id": "e3bdd8c6",
   "metadata": {},
   "source": [
    "### Group Definitions"
   ]
  },
  {
   "cell_type": "code",
   "execution_count": 15,
   "id": "cd996087",
   "metadata": {},
   "outputs": [
    {
     "data": {
      "text/plain": [
       "country\n",
       "US      300435\n",
       "GB       43406\n",
       "CA       38329\n",
       "AU       30297\n",
       "DE       10892\n",
       "IN        9846\n",
       "PH        9466\n",
       "MX        8273\n",
       "NONE      8184\n",
       "NO        7133\n",
       "Name: count, dtype: int64"
      ]
     },
     "execution_count": 15,
     "metadata": {},
     "output_type": "execute_result"
    }
   ],
   "source": [
    "df['country'].value_counts().head(10)"
   ]
  },
  {
   "cell_type": "code",
   "execution_count": 43,
   "id": "657ed240",
   "metadata": {},
   "outputs": [
    {
     "data": {
      "text/plain": [
       "country\n",
       "US      2530\n",
       "GB       355\n",
       "CA       316\n",
       "AU       237\n",
       "MX        82\n",
       "DE        82\n",
       "NL        72\n",
       "PH        68\n",
       "IN        67\n",
       "NONE      65\n",
       "Name: count, dtype: int64"
      ]
     },
     "execution_count": 43,
     "metadata": {},
     "output_type": "execute_result"
    }
   ],
   "source": [
    "df_sample['country'].value_counts().head(10)"
   ]
  },
  {
   "cell_type": "code",
   "execution_count": 47,
   "id": "a6baeb24",
   "metadata": {},
   "outputs": [
    {
     "data": {
      "text/plain": [
       "array(['US', 'DK', 'GB', 'NZ', 'CA', 'MX', 'NONE', 'BR', 'VN', 'ES', 'SE',\n",
       "       'PH', 'ID', 'AE', 'AU', 'FR', 'NO', 'MY', 'NL', 'SG', 'KH', 'KE',\n",
       "       'DE', 'BE', 'UA', 'RU', 'HK', 'IN', 'RS', 'PK', 'HR', 'AR', 'ZA',\n",
       "       'FI', 'MM', 'KR', 'CL', 'BH', 'AT', 'BG', 'UY', 'TR', 'CZ', 'IE',\n",
       "       'IT', 'RO', 'PL', 'CH', 'TH', 'PE', 'KG', 'GH', 'GR', 'BA', 'IL',\n",
       "       'CO', 'MT', 'IQ', 'PR', 'EC', 'TW', 'HU', 'JM', 'ME', 'JP', 'VE',\n",
       "       'MG', 'CN', 'KZ', 'AL', 'JO', 'PT', 'BO', 'TT', 'CY', 'MK', 'SK',\n",
       "       'GT', 'MV', 'CR', 'GP', 'KW', 'SA', 'IR', 'LK', 'GG', 'NP', 'EE',\n",
       "       'BM', 'LU', 'IS', 'TN', 'SI', 'LT', 'BN', 'PY', 'BW', 'OM', 'DO',\n",
       "       'YE', 'JE', 'PG', 'AX', 'QA', 'BY', 'TZ', 'DM', 'EG', 'LB', 'NG',\n",
       "       'SN'], dtype=object)"
      ]
     },
     "execution_count": 47,
     "metadata": {},
     "output_type": "execute_result"
    }
   ],
   "source": [
    "df_sample['country'].unique()"
   ]
  },
  {
   "cell_type": "markdown",
   "id": "7cb58934",
   "metadata": {},
   "source": [
    "#### Creating groups by continent"
   ]
  },
  {
   "cell_type": "code",
   "execution_count": 48,
   "id": "0d4d903f",
   "metadata": {},
   "outputs": [
    {
     "name": "stdout",
     "output_type": "stream",
     "text": [
      "continent\n",
      "NA       2949\n",
      "EU       1047\n",
      "AS        445\n",
      "Other     430\n",
      "SA        129\n",
      "Name: count, dtype: int64\n"
     ]
    }
   ],
   "source": [
    "north_america = ['US', 'CA', 'MX', 'PR', 'GP', 'BM', 'DM', 'JM', 'TT', 'GT', 'CR', 'DO']\n",
    "south_america = ['BR', 'AR', 'CL', 'UY', 'CO', 'PE', 'VE', 'EC', 'PY']\n",
    "europe = ['GB', 'IE', 'DK', 'SE', 'NO', 'FI', 'DE', 'FR', 'NL', 'BE', 'LU',\n",
    "          'CH', 'AT', 'BG', 'RO', 'PL', 'PT', 'ES', 'IT', 'GR', 'UA', 'RS',\n",
    "          'HR', 'BA', 'CY', 'MK', 'ME', 'HU', 'SK', 'CZ', 'SI', 'LT', 'EE',\n",
    "          'IS', 'GG', 'JE', 'AX', 'MT', 'BY']\n",
    "\n",
    "asia = ['IN', 'CN', 'JP', 'KR', 'SG', 'MY', 'VN', 'KH', 'ID', 'PH', 'PK',\n",
    "        'TH', 'MV', 'BN', 'LK', 'NP', 'TW', 'IR', 'IQ', 'SA', 'KW', 'QA',\n",
    "        'AE', 'OM', 'KZ', 'KG', 'MM', 'HK', 'IL', 'JO', 'LB', 'BH', 'YE', 'PG']\n",
    "\n",
    "def map_region(row):\n",
    "    if row['country'] in north_america:\n",
    "        return 'NA'\n",
    "    elif row['country'] in south_america:\n",
    "        return 'SA'\n",
    "    elif row['country'] in europe:\n",
    "        return 'EU'\n",
    "    elif row['country'] in asia:\n",
    "        return 'AS'\n",
    "    else:\n",
    "        return 'Other'\n",
    "    \n",
    "df_sample['continent'] = df_sample.apply(map_region, axis = 1)\n",
    "print(df_sample['continent'].value_counts())"
   ]
  },
  {
   "cell_type": "code",
   "execution_count": 49,
   "id": "59c44658",
   "metadata": {},
   "outputs": [
    {
     "name": "stdout",
     "output_type": "stream",
     "text": [
      "country\n",
      "AU      237\n",
      "NONE     65\n",
      "NZ       53\n",
      "ZA       23\n",
      "RU       22\n",
      "TR       13\n",
      "KE        4\n",
      "AL        3\n",
      "GH        2\n",
      "TZ        1\n",
      "NG        1\n",
      "EG        1\n",
      "MG        1\n",
      "BW        1\n",
      "TN        1\n",
      "BO        1\n",
      "SN        1\n",
      "Name: count, dtype: int64\n"
     ]
    }
   ],
   "source": [
    "#Checking what countries are in Other\n",
    "print(df_sample[df_sample['continent'] == 'Other']['country'].value_counts())\n"
   ]
  },
  {
   "cell_type": "code",
   "execution_count": null,
   "id": "a5fdc3a3",
   "metadata": {},
   "outputs": [],
   "source": [
    "# Upon Checking what's in Other:\n",
    "# Oceania region has enough N => a separate group.\n",
    "# African N is small => keep them in 'other'\n",
    "# Keep tiny countires (KE, AL, GH, TZ, NG, EG, MG, BW, TN, BO, SN), and Eurasian countries (Russia and Turkey) in 'other' group due to small N."
   ]
  },
  {
   "cell_type": "markdown",
   "id": "c679191d",
   "metadata": {},
   "source": [
    "#### Updated Grouping by Continent"
   ]
  },
  {
   "cell_type": "code",
   "execution_count": 50,
   "id": "13449c43",
   "metadata": {},
   "outputs": [
    {
     "name": "stdout",
     "output_type": "stream",
     "text": [
      "continent\n",
      "NA    2949\n",
      "EU    1047\n",
      "AS     445\n",
      "OC     290\n",
      "SA     129\n",
      "Name: count, dtype: int64\n"
     ]
    }
   ],
   "source": [
    "\n",
    "north_america = ['US', 'CA', 'MX', 'PR', 'GP', 'BM', 'DM', 'JM', 'TT', 'GT', 'CR', 'DO']\n",
    "south_america = ['BR', 'AR', 'CL', 'UY', 'CO', 'PE', 'VE', 'EC', 'PY']\n",
    "europe = ['GB', 'IE', 'DK', 'SE', 'NO', 'FI', 'DE', 'FR', 'NL', 'BE', 'LU',\n",
    "          'CH', 'AT', 'BG', 'RO', 'PL', 'PT', 'ES', 'IT', 'GR', 'UA', 'RS',\n",
    "          'HR', 'BA', 'CY', 'MK', 'ME', 'HU', 'SK', 'CZ', 'SI', 'LT', 'EE',\n",
    "          'IS', 'GG', 'JE', 'AX', 'MT', 'BY']\n",
    "\n",
    "asia = ['IN', 'CN', 'JP', 'KR', 'SG', 'MY', 'VN', 'KH', 'ID', 'PH', 'PK',\n",
    "        'TH', 'MV', 'BN', 'LK', 'NP', 'TW', 'IR', 'IQ', 'SA', 'KW', 'QA',\n",
    "        'AE', 'OM', 'KZ', 'KG', 'MM', 'HK', 'IL', 'JO', 'LB', 'BH', 'YE', 'PG']\n",
    "oceania = ['AU', 'NZ']\n",
    "\n",
    "def map_region(row):\n",
    "    if row['country'] in north_america:\n",
    "        return 'NA'\n",
    "    elif row['country'] in south_america:\n",
    "        return 'SA'\n",
    "    elif row['country'] in europe:\n",
    "        return 'EU'\n",
    "    elif row['country'] in asia:\n",
    "        return 'AS'\n",
    "    elif row['country'] in oceania:\n",
    "        return 'OC'\n",
    "    else:\n",
    "        return 'Other'\n",
    "\n",
    "# Dropping NONE rows\n",
    "df_sample = df_sample[df_sample['country'] != 'NONE']\n",
    "# Applying 'map_region'\n",
    "df_sample['continent'] = df_sample.apply(map_region, axis = 1)\n",
    "# Dropping 'Other'\n",
    "df_sample = df_sample[df_sample['continent'] != 'Other']\n",
    "print(df_sample['continent'].value_counts())\n"
   ]
  },
  {
   "cell_type": "code",
   "execution_count": null,
   "id": "0bba1537",
   "metadata": {},
   "outputs": [],
   "source": [
    "#“For exploratory comparison, I used a random sample of 5,000 rows from the cleaned dataset. \n",
    "# Region groups were defined based on the country distribution in this sample. \n",
    "# Final analyses will be repeated on the full dataset with the same region definitions.”"
   ]
  },
  {
   "cell_type": "markdown",
   "id": "b39fcddc",
   "metadata": {},
   "source": [
    "### Statistical Tests"
   ]
  },
  {
   "cell_type": "markdown",
   "id": "08dd6e9b",
   "metadata": {},
   "source": [
    "#### Group-wise Trait Descriptive Stats"
   ]
  },
  {
   "cell_type": "code",
   "execution_count": 53,
   "id": "e02bf2a5",
   "metadata": {},
   "outputs": [
    {
     "data": {
      "text/html": [
       "<div>\n",
       "<style scoped>\n",
       "    .dataframe tbody tr th:only-of-type {\n",
       "        vertical-align: middle;\n",
       "    }\n",
       "\n",
       "    .dataframe tbody tr th {\n",
       "        vertical-align: top;\n",
       "    }\n",
       "\n",
       "    .dataframe thead tr th {\n",
       "        text-align: left;\n",
       "    }\n",
       "\n",
       "    .dataframe thead tr:last-of-type th {\n",
       "        text-align: right;\n",
       "    }\n",
       "</style>\n",
       "<table border=\"1\" class=\"dataframe\">\n",
       "  <thead>\n",
       "    <tr>\n",
       "      <th></th>\n",
       "      <th colspan=\"3\" halign=\"left\">Openness</th>\n",
       "      <th colspan=\"3\" halign=\"left\">Conscientiousness</th>\n",
       "      <th colspan=\"3\" halign=\"left\">Extraversion</th>\n",
       "      <th colspan=\"3\" halign=\"left\">Agreeableness</th>\n",
       "      <th colspan=\"3\" halign=\"left\">Neuroticism</th>\n",
       "    </tr>\n",
       "    <tr>\n",
       "      <th></th>\n",
       "      <th>mean</th>\n",
       "      <th>std</th>\n",
       "      <th>count</th>\n",
       "      <th>mean</th>\n",
       "      <th>std</th>\n",
       "      <th>count</th>\n",
       "      <th>mean</th>\n",
       "      <th>std</th>\n",
       "      <th>count</th>\n",
       "      <th>mean</th>\n",
       "      <th>std</th>\n",
       "      <th>count</th>\n",
       "      <th>mean</th>\n",
       "      <th>std</th>\n",
       "      <th>count</th>\n",
       "    </tr>\n",
       "    <tr>\n",
       "      <th>continent</th>\n",
       "      <th></th>\n",
       "      <th></th>\n",
       "      <th></th>\n",
       "      <th></th>\n",
       "      <th></th>\n",
       "      <th></th>\n",
       "      <th></th>\n",
       "      <th></th>\n",
       "      <th></th>\n",
       "      <th></th>\n",
       "      <th></th>\n",
       "      <th></th>\n",
       "      <th></th>\n",
       "      <th></th>\n",
       "      <th></th>\n",
       "    </tr>\n",
       "  </thead>\n",
       "  <tbody>\n",
       "    <tr>\n",
       "      <th>AS</th>\n",
       "      <td>3.21</td>\n",
       "      <td>0.39</td>\n",
       "      <td>445</td>\n",
       "      <td>3.11</td>\n",
       "      <td>0.39</td>\n",
       "      <td>445</td>\n",
       "      <td>3.05</td>\n",
       "      <td>0.37</td>\n",
       "      <td>445</td>\n",
       "      <td>3.27</td>\n",
       "      <td>0.37</td>\n",
       "      <td>445</td>\n",
       "      <td>2.87</td>\n",
       "      <td>0.65</td>\n",
       "      <td>445</td>\n",
       "    </tr>\n",
       "    <tr>\n",
       "      <th>EU</th>\n",
       "      <td>3.33</td>\n",
       "      <td>0.34</td>\n",
       "      <td>1047</td>\n",
       "      <td>3.10</td>\n",
       "      <td>0.38</td>\n",
       "      <td>1047</td>\n",
       "      <td>3.02</td>\n",
       "      <td>0.32</td>\n",
       "      <td>1047</td>\n",
       "      <td>3.13</td>\n",
       "      <td>0.32</td>\n",
       "      <td>1047</td>\n",
       "      <td>2.93</td>\n",
       "      <td>0.63</td>\n",
       "      <td>1047</td>\n",
       "    </tr>\n",
       "    <tr>\n",
       "      <th>NA</th>\n",
       "      <td>3.32</td>\n",
       "      <td>0.36</td>\n",
       "      <td>2949</td>\n",
       "      <td>3.17</td>\n",
       "      <td>0.36</td>\n",
       "      <td>2949</td>\n",
       "      <td>3.03</td>\n",
       "      <td>0.33</td>\n",
       "      <td>2949</td>\n",
       "      <td>3.17</td>\n",
       "      <td>0.33</td>\n",
       "      <td>2949</td>\n",
       "      <td>2.98</td>\n",
       "      <td>0.63</td>\n",
       "      <td>2949</td>\n",
       "    </tr>\n",
       "    <tr>\n",
       "      <th>OC</th>\n",
       "      <td>3.31</td>\n",
       "      <td>0.36</td>\n",
       "      <td>290</td>\n",
       "      <td>3.10</td>\n",
       "      <td>0.37</td>\n",
       "      <td>290</td>\n",
       "      <td>3.04</td>\n",
       "      <td>0.31</td>\n",
       "      <td>290</td>\n",
       "      <td>3.19</td>\n",
       "      <td>0.32</td>\n",
       "      <td>290</td>\n",
       "      <td>3.01</td>\n",
       "      <td>0.60</td>\n",
       "      <td>290</td>\n",
       "    </tr>\n",
       "    <tr>\n",
       "      <th>SA</th>\n",
       "      <td>3.35</td>\n",
       "      <td>0.38</td>\n",
       "      <td>129</td>\n",
       "      <td>3.19</td>\n",
       "      <td>0.35</td>\n",
       "      <td>129</td>\n",
       "      <td>3.04</td>\n",
       "      <td>0.35</td>\n",
       "      <td>129</td>\n",
       "      <td>3.18</td>\n",
       "      <td>0.39</td>\n",
       "      <td>129</td>\n",
       "      <td>2.85</td>\n",
       "      <td>0.75</td>\n",
       "      <td>129</td>\n",
       "    </tr>\n",
       "  </tbody>\n",
       "</table>\n",
       "</div>"
      ],
      "text/plain": [
       "          Openness             Conscientiousness             Extraversion  \\\n",
       "              mean   std count              mean   std count         mean   \n",
       "continent                                                                   \n",
       "AS            3.21  0.39   445              3.11  0.39   445         3.05   \n",
       "EU            3.33  0.34  1047              3.10  0.38  1047         3.02   \n",
       "NA            3.32  0.36  2949              3.17  0.36  2949         3.03   \n",
       "OC            3.31  0.36   290              3.10  0.37   290         3.04   \n",
       "SA            3.35  0.38   129              3.19  0.35   129         3.04   \n",
       "\n",
       "                      Agreeableness             Neuroticism              \n",
       "            std count          mean   std count        mean   std count  \n",
       "continent                                                                \n",
       "AS         0.37   445          3.27  0.37   445        2.87  0.65   445  \n",
       "EU         0.32  1047          3.13  0.32  1047        2.93  0.63  1047  \n",
       "NA         0.33  2949          3.17  0.33  2949        2.98  0.63  2949  \n",
       "OC         0.31   290          3.19  0.32   290        3.01  0.60   290  \n",
       "SA         0.35   129          3.18  0.39   129        2.85  0.75   129  "
      ]
     },
     "execution_count": 53,
     "metadata": {},
     "output_type": "execute_result"
    }
   ],
   "source": [
    "grouped_continent = df_sample.groupby('continent')[traits].agg(['mean', 'std', 'count'])\n",
    "grouped_continent.round(2)"
   ]
  },
  {
   "cell_type": "markdown",
   "id": "c150dff0",
   "metadata": {},
   "source": [
    "#### One-way ANOVA"
   ]
  },
  {
   "cell_type": "code",
   "execution_count": 69,
   "id": "4316de23",
   "metadata": {},
   "outputs": [
    {
     "name": "stdout",
     "output_type": "stream",
     "text": [
      "continent\n",
      "AS    3.21\n",
      "EU    3.33\n",
      "NA    3.32\n",
      "OC    3.31\n",
      "SA    3.35\n",
      "Name: Openness, dtype: float64\n"
     ]
    },
    {
     "data": {
      "text/html": [
       "<div>\n",
       "<style scoped>\n",
       "    .dataframe tbody tr th:only-of-type {\n",
       "        vertical-align: middle;\n",
       "    }\n",
       "\n",
       "    .dataframe tbody tr th {\n",
       "        vertical-align: top;\n",
       "    }\n",
       "\n",
       "    .dataframe thead th {\n",
       "        text-align: right;\n",
       "    }\n",
       "</style>\n",
       "<table border=\"1\" class=\"dataframe\">\n",
       "  <thead>\n",
       "    <tr style=\"text-align: right;\">\n",
       "      <th></th>\n",
       "      <th>sum_sq</th>\n",
       "      <th>df</th>\n",
       "      <th>F</th>\n",
       "      <th>PR(&gt;F)</th>\n",
       "    </tr>\n",
       "  </thead>\n",
       "  <tbody>\n",
       "    <tr>\n",
       "      <th>C(continent)</th>\n",
       "      <td>5.952625</td>\n",
       "      <td>4.0</td>\n",
       "      <td>11.416947</td>\n",
       "      <td>3.184313e-09</td>\n",
       "    </tr>\n",
       "    <tr>\n",
       "      <th>Residual</th>\n",
       "      <td>632.831079</td>\n",
       "      <td>4855.0</td>\n",
       "      <td>NaN</td>\n",
       "      <td>NaN</td>\n",
       "    </tr>\n",
       "  </tbody>\n",
       "</table>\n",
       "</div>"
      ],
      "text/plain": [
       "                  sum_sq      df          F        PR(>F)\n",
       "C(continent)    5.952625     4.0  11.416947  3.184313e-09\n",
       "Residual      632.831079  4855.0        NaN           NaN"
      ]
     },
     "execution_count": 69,
     "metadata": {},
     "output_type": "execute_result"
    }
   ],
   "source": [
    "# Q: Does the mean score of each Big Five trait show difference across my continent groups?\n",
    "\n",
    "# EXAMPLE: Openness by Continent\n",
    "# Openness means by continent\n",
    "print(df_sample.groupby('continent')['Openness'].mean().round(2))\n",
    "# ANOVA table\n",
    "model = ols('Openness ~ C(continent)', data=df_sample).fit()\n",
    "anova_table = sm.stats.anova_lm(model, typ=2)\n",
    "\n",
    "anova_table"
   ]
  },
  {
   "cell_type": "code",
   "execution_count": null,
   "id": "94f20bda",
   "metadata": {},
   "outputs": [
    {
     "name": "stdout",
     "output_type": "stream",
     "text": [
      "\n",
      "### ANOVA for Openness by continent ###\n",
      "\n",
      "Group means:\n",
      " continent\n",
      "AS    3.21\n",
      "EU    3.33\n",
      "NA    3.32\n",
      "OC    3.31\n",
      "SA    3.35\n",
      "Name: Openness, dtype: float64\n",
      "\n",
      "ANOVA table:\n",
      "                   sum_sq      df          F        PR(>F)\n",
      "C(continent)    5.952625     4.0  11.416947  3.184313e-09\n",
      "Residual      632.831079  4855.0        NaN           NaN\n",
      "\n",
      "### ANOVA for Conscientiousness by continent ###\n",
      "\n",
      "Group means:\n",
      " continent\n",
      "AS    3.11\n",
      "EU    3.10\n",
      "NA    3.17\n",
      "OC    3.10\n",
      "SA    3.19\n",
      "Name: Conscientiousness, dtype: float64\n",
      "\n",
      "ANOVA table:\n",
      "                   sum_sq      df         F        PR(>F)\n",
      "C(continent)    4.792877     4.0  8.793037  4.531262e-07\n",
      "Residual      661.586497  4855.0       NaN           NaN\n",
      "\n",
      "### ANOVA for Extraversion by continent ###\n",
      "\n",
      "Group means:\n",
      " continent\n",
      "AS    3.05\n",
      "EU    3.02\n",
      "NA    3.03\n",
      "OC    3.04\n",
      "SA    3.04\n",
      "Name: Extraversion, dtype: float64\n",
      "\n",
      "ANOVA table:\n",
      "                   sum_sq      df         F   PR(>F)\n",
      "C(continent)    0.399612     4.0  0.916556  0.45315\n",
      "Residual      529.186183  4855.0       NaN      NaN\n",
      "\n",
      "### ANOVA for Agreeableness by continent ###\n",
      "\n",
      "Group means:\n",
      " continent\n",
      "AS    3.27\n",
      "EU    3.13\n",
      "NA    3.17\n",
      "OC    3.19\n",
      "SA    3.18\n",
      "Name: Agreeableness, dtype: float64\n",
      "\n",
      "ANOVA table:\n",
      "                   sum_sq      df         F        PR(>F)\n",
      "C(continent)    6.120030     4.0  13.92525  2.684798e-11\n",
      "Residual      533.432882  4855.0       NaN           NaN\n",
      "\n",
      "### ANOVA for Neuroticism by continent ###\n",
      "\n",
      "Group means:\n",
      " continent\n",
      "AS    2.87\n",
      "EU    2.93\n",
      "NA    2.98\n",
      "OC    3.01\n",
      "SA    2.85\n",
      "Name: Neuroticism, dtype: float64\n",
      "\n",
      "ANOVA table:\n",
      "                    sum_sq      df         F    PR(>F)\n",
      "C(continent)     7.762330     4.0  4.858211  0.000656\n",
      "Residual      1939.300096  4855.0       NaN       NaN\n"
     ]
    }
   ],
   "source": [
    "# For all traits: run one-way ANOVA for a trait across continents. \n",
    "# Returns group means and ANOVA table\n",
    "def oneway_anova(df, trait, group='continent'):\n",
    "    \"\"\"\n",
    "    Parameters:\n",
    "        df : DataFrame\n",
    "        trait : str, name of the trait column\n",
    "        group : str, grouping column (default: 'continent')\n",
    "    \"\"\"\n",
    "    print(f\"\\n### ANOVA for {trait} by {group} ###\\n\")\n",
    "    \n",
    "    # Group means\n",
    "    means = df.groupby(group)[trait].mean().round(2)\n",
    "    print(\"Group means:\\n\", means)\n",
    "    \n",
    "    # OLS model\n",
    "    model = ols(f'{trait} ~ C({group})', data=df).fit()\n",
    "    anova_table = sm.stats.anova_lm(model, typ=2)\n",
    "    \n",
    "    print(\"\\nANOVA table:\\n\", anova_table)\n",
    "    return anova_table\n",
    "\n",
    "for trait in traits:\n",
    "    oneway_anova(df_sample, trait)"
   ]
  },
  {
   "cell_type": "code",
   "execution_count": null,
   "id": "a5068087",
   "metadata": {},
   "outputs": [],
   "source": [
    "# One-way ANOVAs showed that mean Openness, Conscientiousness, Agreeableness, and Neuroticism scores differed significantly across continents (all ps < .001). \n",
    "# Extraversion did not differ significantly (p = .45)."
   ]
  },
  {
   "cell_type": "markdown",
   "id": "a93edab8",
   "metadata": {},
   "source": [
    "#### Tukey's HSD\n"
   ]
  },
  {
   "cell_type": "code",
   "execution_count": null,
   "id": "c6612f91",
   "metadata": {},
   "outputs": [
    {
     "name": "stdout",
     "output_type": "stream",
     "text": [
      "Multiple Comparison of Means - Tukey HSD, FWER=0.05\n",
      "===================================================\n",
      "group1 group2 meandiff p-adj   lower  upper  reject\n",
      "---------------------------------------------------\n",
      "    AS     EU   0.1256    0.0  0.0698 0.1813   True\n",
      "    AS     NA   0.1176    0.0  0.0675 0.1677   True\n",
      "    AS     OC   0.1008  0.002  0.0265 0.1752   True\n",
      "    AS     SA   0.1427 0.0007  0.0442 0.2412   True\n",
      "    EU     NA   -0.008 0.9727 -0.0434 0.0275  False\n",
      "    EU     OC  -0.0247 0.8403 -0.0901 0.0406  False\n",
      "    EU     SA   0.0171 0.9866 -0.0748  0.109  False\n",
      "    NA     OC  -0.0168 0.9435 -0.0774 0.0439  False\n",
      "    NA     SA   0.0251 0.9384 -0.0635 0.1137  False\n",
      "    OC     SA   0.0419  0.809 -0.0624 0.1461  False\n",
      "---------------------------------------------------\n"
     ]
    }
   ],
   "source": [
    "#Import Tukey HSD tool\n",
    "from statsmodels.stats.multicomp import pairwise_tukeyhsd\n",
    "\n",
    "#Run Tukey HSD: pairwise_tukeyhsd(endog=..., groups=..., alpha=...)\n",
    "tukey = pairwise_tukeyhsd(endog=df_sample['Openness'], #DV scores \n",
    "                          groups=df_sample['continent'], #Group factor \n",
    "                          alpha=0.05) #Significance level\n",
    "\n",
    "print(tukey)"
   ]
  },
  {
   "cell_type": "code",
   "execution_count": null,
   "id": "70d286bf",
   "metadata": {},
   "outputs": [],
   "source": [
    "# Output Interpretation\n",
    "# group1, group 2: the pair of regions being compared\n",
    "# meandiff: mean difference (group2 - group1)\n",
    "# p-adj: adjusted p-value (for multiple comparisons)\n",
    "# lower, upper: 95% confidence interval for the mean difference\n",
    "# reject: True means significant (reject H0: the means differ significantly)\n",
    "\n",
    "# Tukey HSD post-hoc tests showed that participants from Asia had significantly lower Openness scores than all other continents (all p < .01). \n",
    "# No other pairwise differences were significant.\n"
   ]
  },
  {
   "cell_type": "code",
   "execution_count": 76,
   "id": "c1048ed0",
   "metadata": {},
   "outputs": [
    {
     "name": "stdout",
     "output_type": "stream",
     "text": [
      "\n",
      "### Tukey HSD for Openness by continent ###\n",
      "\n",
      "Multiple Comparison of Means - Tukey HSD, FWER=0.50\n",
      "===================================================\n",
      "group1 group2 meandiff p-adj   lower  upper  reject\n",
      "---------------------------------------------------\n",
      "    AS     EU   0.1256    0.0  0.0929 0.1582   True\n",
      "    AS     NA   0.1176    0.0  0.0883 0.1469   True\n",
      "    AS     OC   0.1008  0.002  0.0573 0.1443   True\n",
      "    AS     SA   0.1427 0.0007  0.0851 0.2003   True\n",
      "    EU     NA   -0.008 0.9727 -0.0287 0.0127  False\n",
      "    EU     OC  -0.0247 0.8403  -0.063 0.0135  False\n",
      "    EU     SA   0.0171 0.9866 -0.0366 0.0709  False\n",
      "    NA     OC  -0.0168 0.9435 -0.0522 0.0187  False\n",
      "    NA     SA   0.0251 0.9384 -0.0267 0.0769  False\n",
      "    OC     SA   0.0419  0.809 -0.0191 0.1028  False\n",
      "---------------------------------------------------\n",
      "\n",
      "### Tukey HSD for Conscientiousness by continent ###\n",
      "\n",
      "Multiple Comparison of Means - Tukey HSD, FWER=0.50 \n",
      "====================================================\n",
      "group1 group2 meandiff p-adj   lower   upper  reject\n",
      "----------------------------------------------------\n",
      "    AS     EU    -0.01 0.9893 -0.0433  0.0234  False\n",
      "    AS     NA    0.056 0.0239  0.0261   0.086   True\n",
      "    AS     OC   -0.012 0.9929 -0.0564  0.0325  False\n",
      "    AS     SA   0.0748 0.2538  0.0159  0.1337   True\n",
      "    EU     NA    0.066    0.0  0.0448  0.0872   True\n",
      "    EU     OC   -0.002    1.0 -0.0411  0.0371  False\n",
      "    EU     SA   0.0848 0.0999  0.0298  0.1397   True\n",
      "    NA     OC   -0.068 0.0233 -0.1042 -0.0317   True\n",
      "    NA     SA   0.0188 0.9801 -0.0342  0.0717  False\n",
      "    OC     SA   0.0867 0.1723  0.0244  0.1491   True\n",
      "----------------------------------------------------\n",
      "\n",
      "### Tukey HSD for Agreeableness by continent ###\n",
      "\n",
      "Multiple Comparison of Means - Tukey HSD, FWER=0.50 \n",
      "====================================================\n",
      "group1 group2 meandiff p-adj   lower   upper  reject\n",
      "----------------------------------------------------\n",
      "    AS     EU  -0.1384    0.0 -0.1684 -0.1085   True\n",
      "    AS     NA  -0.1047    0.0 -0.1316 -0.0778   True\n",
      "    AS     OC  -0.0853 0.0059 -0.1252 -0.0453   True\n",
      "    AS     SA  -0.0963 0.0303 -0.1492 -0.0434   True\n",
      "    EU     NA   0.0337 0.0379  0.0147  0.0528   True\n",
      "    EU     OC   0.0532 0.1109  0.0181  0.0883   True\n",
      "    EU     SA   0.0421 0.6517 -0.0072  0.0915  False\n",
      "    NA     OC   0.0194  0.876 -0.0131   0.052  False\n",
      "    NA     SA   0.0084 0.9986 -0.0392   0.056  False\n",
      "    OC     SA   -0.011 0.9979  -0.067   0.045  False\n",
      "----------------------------------------------------\n",
      "\n",
      "### Tukey HSD for Neuroticism by continent ###\n",
      "\n",
      "Multiple Comparison of Means - Tukey HSD, FWER=0.50 \n",
      "====================================================\n",
      "group1 group2 meandiff p-adj   lower   upper  reject\n",
      "----------------------------------------------------\n",
      "    AS     EU    0.059  0.465   0.002  0.1161   True\n",
      "    AS     NA   0.1091 0.0063  0.0578  0.1604   True\n",
      "    AS     OC   0.1364 0.0346  0.0602  0.2125   True\n",
      "    AS     SA  -0.0184 0.9984 -0.1193  0.0824  False\n",
      "    EU     NA     0.05 0.1796  0.0137  0.0863   True\n",
      "    EU     OC   0.0773 0.3484  0.0104  0.1443   True\n",
      "    EU     SA  -0.0775 0.6829 -0.1716  0.0167  False\n",
      "    NA     OC   0.0273 0.9561 -0.0348  0.0894  False\n",
      "    NA     SA  -0.1275 0.1643 -0.2182 -0.0368   True\n",
      "    OC     SA  -0.1548 0.1405 -0.2615  -0.048   True\n",
      "----------------------------------------------------\n"
     ]
    }
   ],
   "source": [
    "from statsmodels.stats.multicomp import pairwise_tukeyhsd\n",
    "\n",
    "#Significant traits from the one-way ANOVA\n",
    "significant_traits = ['Openness', 'Conscientiousness', 'Agreeableness', 'Neuroticism']\n",
    "\n",
    "#Loop\n",
    "for trait in significant_traits:\n",
    "    print(f'\\n### Tukey HSD for {trait} by continent ###\\n')\n",
    "    tukey = pairwise_tukeyhsd(\n",
    "        endog = df_sample[trait],\n",
    "        groups = df_sample['continent'],\n",
    "        alpha = 0.5\n",
    "    )\n",
    "    print(tukey)\n"
   ]
  },
  {
   "cell_type": "code",
   "execution_count": null,
   "id": "d216a616",
   "metadata": {},
   "outputs": [],
   "source": [
    "# Tukey HSD Interpretations\n",
    "# 1. Openness\n",
    "    # All significant differences involve Asia vs every other continent.\n",
    "    # EU, NA, OC, SA → all higher than Asia.\n",
    "    # No other pairs differ (EU vs NA, EU vs SA, NA vs OC etc.).\n",
    "# Post-hoc Tukey tests confirmed that Openness was significantly lower in Asia compared to all other continents (all p < .01). \n",
    "# No other pairwise differences were significant.\n",
    "\n",
    "# 2. Conscientiousness\n",
    "    # AS is lower than NA by ~0.056 → significant (p = .024)\n",
    "    # EU is lower than NA by ~0.066 → highly significant (p < .001)\n",
    "    # A few pairs (e.g., EU vs SA) pop up too.\n",
    "    # OC drifts slightly lower than NA (borderline difference)\n",
    "# Conscientiousness was significantly higher in North America than in Asia, Europe, and Oceania(p < .05). \n",
    "# Other pairwise differences were mostly non-significant.\n",
    "\n",
    "# 3. Agreeableness\n",
    "    # Asia is significantly lower than everyone else → big negative mean diffs.\n",
    "    # EU vs NA → tiny but significant (+0.0337), so Europe slightly more agreeable than North America.\n",
    "    # EU vs OC → similar direction but CI hits zero → borderline.\n",
    "    # Other pairs → no meaningful difference.  \n",
    "    # Asia showed significantly lower Agreeableness than all other regions (p < .05). \n",
    "    # Europe was slightly higher than North America (p ≈ .04).\n",
    "\n",
    "# 4. Neuroticism:\n",
    "    # Asia vs NA: significant → NA is more Neurotic than Asia. (p< .0063)\n",
    "    # Asia vs OC: significant → OC is more Neurotic than Asia. (p< .0346)\n",
    "    # Pairwise comparisons showed that North America and Oceania had significantly higher Neuroticism than Asia (p < .05). \n",
    "    # The Asia–Europe difference was not significant (p = .465) despite a marginal CI.\n"
   ]
  },
  {
   "cell_type": "markdown",
   "id": "9e5013fe",
   "metadata": {},
   "source": [
    "### Visualizations"
   ]
  },
  {
   "cell_type": "code",
   "execution_count": 78,
   "id": "b20a4103",
   "metadata": {},
   "outputs": [
    {
     "data": {
      "image/png": "[encoded data removed]",
      "text/plain": [
       "<Figure size 800x600 with 1 Axes>"
      ]
     },
     "metadata": {},
     "output_type": "display_data"
    }
   ],
   "source": [
    "plt.figure(figsize=(8,6))\n",
    "\n",
    "sns.boxplot(\n",
    "    x='continent',\n",
    "    y='Openness',\n",
    "    data=df_sample\n",
    ")\n",
    "\n",
    "plt.title('Openness by Continent', fontsize=14)\n",
    "plt.xlabel('Continent', fontsize=12)\n",
    "plt.ylabel('Openness Score', fontsize=12)\n",
    "\n",
    "plt.show()\n"
   ]
  }
 ],
 "metadata": {
  "kernelspec": {
   "display_name": "BigFive Venv",
   "language": "python",
   "name": "bigfive_venv"
  },
  "language_info": {
   "codemirror_mode": {
    "name": "ipython",
    "version": 3
   },
   "file_extension": ".py",
   "mimetype": "text/x-python",
   "name": "python",
   "nbconvert_exporter": "python",
   "pygments_lexer": "ipython3",
   "version": "3.11.13"
  }
 },
 "nbformat": 4,
 "nbformat_minor": 5
}
