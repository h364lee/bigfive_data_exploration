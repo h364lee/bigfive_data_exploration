{
 "cells": [
  {
   "cell_type": "markdown",
   "id": "8ad83797",
   "metadata": {},
   "source": [
    "# 02_group_comparison"
   ]
  },
  {
   "cell_type": "markdown",
   "id": "1b54e5f9",
   "metadata": {},
   "source": [
    "## Setup"
   ]
  },
  {
   "cell_type": "code",
   "execution_count": null,
   "id": "c01e5982",
   "metadata": {},
   "outputs": [],
   "source": [
    "# Import necessary libraries\n",
    "import pandas as pd\n",
    "import seaborn as sns\n",
    "import matplotlib.pyplot as plt\n",
    "\n",
    "sns.set(style='whitegrid')"
   ]
  },
  {
   "cell_type": "code",
   "execution_count": 2,
   "id": "fb4995c5",
   "metadata": {},
   "outputs": [],
   "source": [
    "# Load cleaned dataset\n",
    "df = pd.read_csv('../data/cleaned/cleaned_bigfive_v1.csv')"
   ]
  },
  {
   "cell_type": "code",
   "execution_count": 3,
   "id": "10d1d23d",
   "metadata": {},
   "outputs": [],
   "source": [
    "# Traits list \n",
    "traits = ['Openness', 'Conscientiousness', 'Extraversion', 'Agreeableness', 'Neuroticism']\n",
    "\n",
    "# [Optional] Sampling (same random_state as 01_univariate_EDA)\n",
    "df_sample = df.sample(n=5000, random_state=42)"
   ]
  },
  {
   "cell_type": "code",
   "execution_count": null,
   "id": "5944ba91",
   "metadata": {},
   "outputs": [],
   "source": [
    "# ------------------------------\n",
    "# 2️⃣ GROUP DEFINITIONS\n",
    "# ------------------------------\n",
    "\n",
    "## 📌 Example:\n",
    "## - Group by gender (if you have it)\n",
    "## - Create age bins (e.g., <30 vs. 30+)\n",
    "\n",
    "# Example: create age bin column\n",
    "# df['age_group'] = pd.cut(df['age'], bins=[0, 29, 100], labels=['Under 30', '30+'])\n",
    "\n",
    "## Confirm groups:\n",
    "# df['gender'].value_counts()\n",
    "# df['age_group'].value_counts()\n"
   ]
  },
  {
   "cell_type": "code",
   "execution_count": null,
   "id": "7d602d9c",
   "metadata": {},
   "outputs": [],
   "source": [
    "# ------------------------------\n",
    "# 3️⃣ GROUP SUMMARIES\n",
    "# ------------------------------\n",
    "\n",
    "## 📌 Mean, median, SD by group\n",
    "# Example: mean traits by gender\n",
    "# df.groupby('gender')[traits].mean().round(2)\n",
    "\n",
    "# Example: mean traits by age bin\n",
    "# df.groupby('age_group')[traits].mean().round(2)\n"
   ]
  },
  {
   "cell_type": "code",
   "execution_count": null,
   "id": "35a4cde6",
   "metadata": {},
   "outputs": [],
   "source": [
    "# ------------------------------\n",
    "# 4️⃣ VISUALIZATIONS\n",
    "# ------------------------------\n",
    "\n",
    "## 📌 Boxplots or violin plots comparing traits by groups\n",
    "\n",
    "# Example:\n",
    "# sns.boxplot(data=df, x='gender', y='Openness')\n",
    "\n",
    "# Or for all traits:\n",
    "# Use FacetGrid or subplots to plot multiple traits.\n"
   ]
  },
  {
   "cell_type": "code",
   "execution_count": null,
   "id": "a6952e9b",
   "metadata": {},
   "outputs": [],
   "source": [
    "# ------------------------------\n",
    "# 5️⃣ NEXT: Basic tests\n",
    "# ------------------------------\n",
    "\n",
    "## 📌 Plan:\n",
    "## - Do t-tests or ANOVA if appropriate.\n",
    "## - Note any big group differences.\n",
    "## - Save visuals for Quarto paper.\n"
   ]
  }
 ],
 "metadata": {
  "kernelspec": {
   "display_name": "BigFive Venv",
   "language": "python",
   "name": "bigfive_venv"
  },
  "language_info": {
   "codemirror_mode": {
    "name": "ipython",
    "version": 3
   },
   "file_extension": ".py",
   "mimetype": "text/x-python",
   "name": "python",
   "nbconvert_exporter": "python",
   "pygments_lexer": "ipython3",
   "version": "3.12.0"
  }
 },
 "nbformat": 4,
 "nbformat_minor": 5
}
